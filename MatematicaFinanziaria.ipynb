{
 "cells": [
  {
   "cell_type": "code",
   "execution_count": 2,
   "id": "f0044a6b",
   "metadata": {},
   "outputs": [],
   "source": [
    "import pandas as pd\n",
    "# pip install numpy-financial\n",
    "import numpy_financial as npf\n",
    "# import numpy as np  - deprecated"
   ]
  },
  {
   "cell_type": "code",
   "execution_count": 2,
   "id": "23bed0a4",
   "metadata": {},
   "outputs": [
    {
     "data": {
      "text/plain": [
       "0.5672303344358536"
      ]
     },
     "execution_count": 2,
     "metadata": {},
     "output_type": "execute_result"
    }
   ],
   "source": [
    "npf.irr([-250000, 100000, 150000, 200000, 250000, 300000])"
   ]
  },
  {
   "cell_type": "code",
   "execution_count": 3,
   "id": "b77b832b",
   "metadata": {},
   "outputs": [
    {
     "data": {
      "text/plain": [
       "-1110.0555643145096"
      ]
     },
     "execution_count": 3,
     "metadata": {},
     "output_type": "execute_result"
    }
   ],
   "source": [
    "npf.pmt(0.085/12, 12*12, 100000)"
   ]
  },
  {
   "cell_type": "markdown",
   "id": "28d1be26",
   "metadata": {},
   "source": [
    "## Rata mensile di un prestito\n",
    "10.000€\n",
    "\n",
    "in 3 anni con rata mensile -> 3 x 12 = 36\n",
    "\n",
    "TAN annuo 6.00% -> tasso periodale = 6.00%/12 = 0.05%\n",
    "\n",
    "**con Excel** -> RATA(0,06/12;3*12;10000;0)"
   ]
  },
  {
   "cell_type": "code",
   "execution_count": 20,
   "id": "42d0fa7b",
   "metadata": {},
   "outputs": [
    {
     "data": {
      "text/html": [
       "<div>\n",
       "<style scoped>\n",
       "    .dataframe tbody tr th:only-of-type {\n",
       "        vertical-align: middle;\n",
       "    }\n",
       "\n",
       "    .dataframe tbody tr th {\n",
       "        vertical-align: top;\n",
       "    }\n",
       "\n",
       "    .dataframe thead th {\n",
       "        text-align: right;\n",
       "    }\n",
       "</style>\n",
       "<table border=\"1\" class=\"dataframe\">\n",
       "  <thead>\n",
       "    <tr style=\"text-align: right;\">\n",
       "      <th></th>\n",
       "      <th>Obs</th>\n",
       "      <th>rate</th>\n",
       "      <th>nper</th>\n",
       "      <th>pv</th>\n",
       "      <th>fv</th>\n",
       "      <th>pmt</th>\n",
       "    </tr>\n",
       "  </thead>\n",
       "  <tbody>\n",
       "    <tr>\n",
       "      <th>0</th>\n",
       "      <td>1</td>\n",
       "      <td>0.005</td>\n",
       "      <td>36</td>\n",
       "      <td>10000</td>\n",
       "      <td>0</td>\n",
       "      <td>-304.219375</td>\n",
       "    </tr>\n",
       "  </tbody>\n",
       "</table>\n",
       "</div>"
      ],
      "text/plain": [
       "   Obs   rate  nper     pv  fv         pmt\n",
       "0    1  0.005    36  10000   0 -304.219375"
      ]
     },
     "execution_count": 20,
     "metadata": {},
     "output_type": "execute_result"
    }
   ],
   "source": [
    "df = pd.DataFrame({'Obs':[1]})\n",
    "df['rate'] = 0.06/12\n",
    "df['nper'] = 3*12\n",
    "df['pv'] = 10000\n",
    "df['fv'] = 0\n",
    "\n",
    "df['pmt'] = npf.pmt(df.rate, df.nper, df.pv, df.fv)\n",
    "df"
   ]
  },
  {
   "cell_type": "code",
   "execution_count": 21,
   "id": "9bbe45f5",
   "metadata": {},
   "outputs": [
    {
     "data": {
      "text/plain": [
       "-304.21937451555715"
      ]
     },
     "execution_count": 21,
     "metadata": {},
     "output_type": "execute_result"
    }
   ],
   "source": [
    "# senza dataframe\n",
    "rate = 0.06/12\n",
    "nper = 3*12\n",
    "pv = 10000\n",
    "fv = 0\n",
    "\n",
    "pmt = npf.pmt(rate, nper, pv, fv)\n",
    "pmt"
   ]
  },
  {
   "cell_type": "markdown",
   "id": "4333570a",
   "metadata": {},
   "source": [
    "## Computing the future value of an investment"
   ]
  },
  {
   "cell_type": "code",
   "execution_count": 7,
   "id": "57dc14f8",
   "metadata": {},
   "outputs": [
    {
     "data": {
      "text/html": [
       "<div>\n",
       "<style scoped>\n",
       "    .dataframe tbody tr th:only-of-type {\n",
       "        vertical-align: middle;\n",
       "    }\n",
       "\n",
       "    .dataframe tbody tr th {\n",
       "        vertical-align: top;\n",
       "    }\n",
       "\n",
       "    .dataframe thead th {\n",
       "        text-align: right;\n",
       "    }\n",
       "</style>\n",
       "<table border=\"1\" class=\"dataframe\">\n",
       "  <thead>\n",
       "    <tr style=\"text-align: right;\">\n",
       "      <th></th>\n",
       "      <th>Obs</th>\n",
       "      <th>rate</th>\n",
       "      <th>nper</th>\n",
       "      <th>pmt</th>\n",
       "      <th>pv</th>\n",
       "      <th>fv</th>\n",
       "    </tr>\n",
       "  </thead>\n",
       "  <tbody>\n",
       "    <tr>\n",
       "      <th>0</th>\n",
       "      <td>1</td>\n",
       "      <td>0.005</td>\n",
       "      <td>60</td>\n",
       "      <td>-200</td>\n",
       "      <td>10000</td>\n",
       "      <td>465.504576</td>\n",
       "    </tr>\n",
       "  </tbody>\n",
       "</table>\n",
       "</div>"
      ],
      "text/plain": [
       "   Obs   rate  nper  pmt     pv          fv\n",
       "0    1  0.005    60 -200  10000  465.504576"
      ]
     },
     "execution_count": 7,
     "metadata": {},
     "output_type": "execute_result"
    }
   ],
   "source": [
    "df = pd.DataFrame({'Obs':[1]})\n",
    "df['rate'] = 0.06/12\n",
    "df['nper'] = 60\n",
    "df['pmt'] = -200\n",
    "df['pv'] = 10000\n",
    "df['fv'] = npf.fv(df.rate, df.nper, df.pmt, df.pv)\n",
    "df"
   ]
  },
  {
   "cell_type": "code",
   "execution_count": 12,
   "id": "74ecef18",
   "metadata": {},
   "outputs": [
    {
     "data": {
      "text/plain": [
       "465.50457647922485"
      ]
     },
     "execution_count": 12,
     "metadata": {},
     "output_type": "execute_result"
    }
   ],
   "source": [
    "# senza dataframe\n",
    "rate = 0.06/12\n",
    "nper = 60\n",
    "pmt= -200\n",
    "pv = 10000\n",
    "\n",
    "fv = npf.fv(rate,nper,pmt,pv)\n",
    "fv"
   ]
  },
  {
   "cell_type": "markdown",
   "id": "77ec1ac6",
   "metadata": {},
   "source": [
    "## Computing the present value of an investment\n",
    "find out what is left of the loan of 10.000 if you pay 200 per month over the next 60 month.\n",
    "\n",
    "The yearly interest rate is 6% per year, and is calculated monthly."
   ]
  },
  {
   "cell_type": "code",
   "execution_count": 10,
   "id": "e2fea47c",
   "metadata": {},
   "outputs": [
    {
     "data": {
      "text/html": [
       "<div>\n",
       "<style scoped>\n",
       "    .dataframe tbody tr th:only-of-type {\n",
       "        vertical-align: middle;\n",
       "    }\n",
       "\n",
       "    .dataframe tbody tr th {\n",
       "        vertical-align: top;\n",
       "    }\n",
       "\n",
       "    .dataframe thead th {\n",
       "        text-align: right;\n",
       "    }\n",
       "</style>\n",
       "<table border=\"1\" class=\"dataframe\">\n",
       "  <thead>\n",
       "    <tr style=\"text-align: right;\">\n",
       "      <th></th>\n",
       "      <th>Obs</th>\n",
       "      <th>rate</th>\n",
       "      <th>nper</th>\n",
       "      <th>pmt</th>\n",
       "      <th>fv</th>\n",
       "      <th>pv</th>\n",
       "    </tr>\n",
       "  </thead>\n",
       "  <tbody>\n",
       "    <tr>\n",
       "      <th>0</th>\n",
       "      <td>1</td>\n",
       "      <td>0.005</td>\n",
       "      <td>60</td>\n",
       "      <td>-200</td>\n",
       "      <td>0</td>\n",
       "      <td>10345.11215</td>\n",
       "    </tr>\n",
       "  </tbody>\n",
       "</table>\n",
       "</div>"
      ],
      "text/plain": [
       "   Obs   rate  nper  pmt  fv           pv\n",
       "0    1  0.005    60 -200   0  10345.11215"
      ]
     },
     "execution_count": 10,
     "metadata": {},
     "output_type": "execute_result"
    }
   ],
   "source": [
    "df = pd.DataFrame({'Obs':[1]})\n",
    "df['rate'] = 0.06/12\n",
    "df['nper'] = 12*5\n",
    "df['pmt'] = -200\n",
    "df['fv'] = 0\n",
    "df['pv'] = npf.pv(df.rate, df.nper, df.pmt, df.fv)\n",
    "df"
   ]
  },
  {
   "cell_type": "markdown",
   "id": "42b7e4c3",
   "metadata": {},
   "source": [
    "## Computing the number of periodic payments we have to make\n",
    "What about the number of payments you need to make to pay back 10.000 with 200 per month?"
   ]
  },
  {
   "cell_type": "code",
   "execution_count": 13,
   "id": "6b18991a",
   "metadata": {},
   "outputs": [
    {
     "data": {
      "text/html": [
       "<div>\n",
       "<style scoped>\n",
       "    .dataframe tbody tr th:only-of-type {\n",
       "        vertical-align: middle;\n",
       "    }\n",
       "\n",
       "    .dataframe tbody tr th {\n",
       "        vertical-align: top;\n",
       "    }\n",
       "\n",
       "    .dataframe thead th {\n",
       "        text-align: right;\n",
       "    }\n",
       "</style>\n",
       "<table border=\"1\" class=\"dataframe\">\n",
       "  <thead>\n",
       "    <tr style=\"text-align: right;\">\n",
       "      <th></th>\n",
       "      <th>Obs</th>\n",
       "      <th>rate</th>\n",
       "      <th>pmt</th>\n",
       "      <th>pv</th>\n",
       "      <th>fv</th>\n",
       "      <th>nper</th>\n",
       "    </tr>\n",
       "  </thead>\n",
       "  <tbody>\n",
       "    <tr>\n",
       "      <th>0</th>\n",
       "      <td>1</td>\n",
       "      <td>0.005</td>\n",
       "      <td>-200</td>\n",
       "      <td>10000</td>\n",
       "      <td>0</td>\n",
       "      <td>57.680136</td>\n",
       "    </tr>\n",
       "  </tbody>\n",
       "</table>\n",
       "</div>"
      ],
      "text/plain": [
       "   Obs   rate  pmt     pv  fv       nper\n",
       "0    1  0.005 -200  10000   0  57.680136"
      ]
     },
     "execution_count": 13,
     "metadata": {},
     "output_type": "execute_result"
    }
   ],
   "source": [
    "df = pd.DataFrame({'Obs':[1]})\n",
    "df['rate'] = 0.06/12\n",
    "df['pmt'] = -200\n",
    "df['pv'] = 10000\n",
    "df['fv'] = 0\n",
    "\n",
    "df['nper'] = npf.nper(df.rate, df.pmt, df.pv, df.fv)\n",
    "df"
   ]
  },
  {
   "cell_type": "markdown",
   "id": "f2b9003c",
   "metadata": {},
   "source": [
    "## What is the annual interest?\n",
    "\n",
    "Now we want to look at the yearly interest rate when you pay back a loan of 10,000 with 60 monthly payments of 200."
   ]
  },
  {
   "cell_type": "code",
   "execution_count": 14,
   "id": "75513e9b",
   "metadata": {},
   "outputs": [
    {
     "data": {
      "text/html": [
       "<div>\n",
       "<style scoped>\n",
       "    .dataframe tbody tr th:only-of-type {\n",
       "        vertical-align: middle;\n",
       "    }\n",
       "\n",
       "    .dataframe tbody tr th {\n",
       "        vertical-align: top;\n",
       "    }\n",
       "\n",
       "    .dataframe thead th {\n",
       "        text-align: right;\n",
       "    }\n",
       "</style>\n",
       "<table border=\"1\" class=\"dataframe\">\n",
       "  <thead>\n",
       "    <tr style=\"text-align: right;\">\n",
       "      <th></th>\n",
       "      <th>Obs</th>\n",
       "      <th>nper</th>\n",
       "      <th>pmt</th>\n",
       "      <th>pv</th>\n",
       "      <th>fv</th>\n",
       "      <th>rate</th>\n",
       "    </tr>\n",
       "  </thead>\n",
       "  <tbody>\n",
       "    <tr>\n",
       "      <th>0</th>\n",
       "      <td>1</td>\n",
       "      <td>60</td>\n",
       "      <td>-200</td>\n",
       "      <td>10000</td>\n",
       "      <td>0</td>\n",
       "      <td>0.074201</td>\n",
       "    </tr>\n",
       "  </tbody>\n",
       "</table>\n",
       "</div>"
      ],
      "text/plain": [
       "   Obs  nper  pmt     pv  fv      rate\n",
       "0    1    60 -200  10000   0  0.074201"
      ]
     },
     "execution_count": 14,
     "metadata": {},
     "output_type": "execute_result"
    }
   ],
   "source": [
    "df = pd.DataFrame({'Obs':[1]})\n",
    "df['nper'] = 60\n",
    "df['pmt'] = -200\n",
    "df['pv'] = 10000\n",
    "df['fv'] = 0\n",
    "\n",
    "df['rate'] = npf.rate(df.nper, df.pmt, df.pv, df.fv) * 12\n",
    "df"
   ]
  },
  {
   "cell_type": "markdown",
   "id": "10297053",
   "metadata": {},
   "source": [
    "## Calculating the principal payment amount\n",
    "If you want to know how much principal you would pay each month, you can use the ppmt method."
   ]
  },
  {
   "cell_type": "code",
   "execution_count": 22,
   "id": "de17ace3",
   "metadata": {},
   "outputs": [
    {
     "data": {
      "text/html": [
       "<div>\n",
       "<style scoped>\n",
       "    .dataframe tbody tr th:only-of-type {\n",
       "        vertical-align: middle;\n",
       "    }\n",
       "\n",
       "    .dataframe tbody tr th {\n",
       "        vertical-align: top;\n",
       "    }\n",
       "\n",
       "    .dataframe thead th {\n",
       "        text-align: right;\n",
       "    }\n",
       "</style>\n",
       "<table border=\"1\" class=\"dataframe\">\n",
       "  <thead>\n",
       "    <tr style=\"text-align: right;\">\n",
       "      <th></th>\n",
       "      <th>period</th>\n",
       "      <th>rate</th>\n",
       "      <th>nper</th>\n",
       "      <th>pv</th>\n",
       "      <th>fv</th>\n",
       "      <th>ppmt</th>\n",
       "    </tr>\n",
       "  </thead>\n",
       "  <tbody>\n",
       "    <tr>\n",
       "      <th>0</th>\n",
       "      <td>1</td>\n",
       "      <td>0.005</td>\n",
       "      <td>36</td>\n",
       "      <td>10000</td>\n",
       "      <td>0</td>\n",
       "      <td>-254.219375</td>\n",
       "    </tr>\n",
       "    <tr>\n",
       "      <th>1</th>\n",
       "      <td>2</td>\n",
       "      <td>0.005</td>\n",
       "      <td>36</td>\n",
       "      <td>10000</td>\n",
       "      <td>0</td>\n",
       "      <td>-255.490471</td>\n",
       "    </tr>\n",
       "    <tr>\n",
       "      <th>2</th>\n",
       "      <td>3</td>\n",
       "      <td>0.005</td>\n",
       "      <td>36</td>\n",
       "      <td>10000</td>\n",
       "      <td>0</td>\n",
       "      <td>-256.767924</td>\n",
       "    </tr>\n",
       "    <tr>\n",
       "      <th>3</th>\n",
       "      <td>4</td>\n",
       "      <td>0.005</td>\n",
       "      <td>36</td>\n",
       "      <td>10000</td>\n",
       "      <td>0</td>\n",
       "      <td>-258.051763</td>\n",
       "    </tr>\n",
       "    <tr>\n",
       "      <th>4</th>\n",
       "      <td>5</td>\n",
       "      <td>0.005</td>\n",
       "      <td>36</td>\n",
       "      <td>10000</td>\n",
       "      <td>0</td>\n",
       "      <td>-259.342022</td>\n",
       "    </tr>\n",
       "    <tr>\n",
       "      <th>...</th>\n",
       "      <td>...</td>\n",
       "      <td>...</td>\n",
       "      <td>...</td>\n",
       "      <td>...</td>\n",
       "      <td>...</td>\n",
       "      <td>...</td>\n",
       "    </tr>\n",
       "    <tr>\n",
       "      <th>115</th>\n",
       "      <td>116</td>\n",
       "      <td>0.005</td>\n",
       "      <td>36</td>\n",
       "      <td>10000</td>\n",
       "      <td>0</td>\n",
       "      <td>-451.134196</td>\n",
       "    </tr>\n",
       "    <tr>\n",
       "      <th>116</th>\n",
       "      <td>117</td>\n",
       "      <td>0.005</td>\n",
       "      <td>36</td>\n",
       "      <td>10000</td>\n",
       "      <td>0</td>\n",
       "      <td>-453.389867</td>\n",
       "    </tr>\n",
       "    <tr>\n",
       "      <th>117</th>\n",
       "      <td>118</td>\n",
       "      <td>0.005</td>\n",
       "      <td>36</td>\n",
       "      <td>10000</td>\n",
       "      <td>0</td>\n",
       "      <td>-455.656816</td>\n",
       "    </tr>\n",
       "    <tr>\n",
       "      <th>118</th>\n",
       "      <td>119</td>\n",
       "      <td>0.005</td>\n",
       "      <td>36</td>\n",
       "      <td>10000</td>\n",
       "      <td>0</td>\n",
       "      <td>-457.935100</td>\n",
       "    </tr>\n",
       "    <tr>\n",
       "      <th>119</th>\n",
       "      <td>120</td>\n",
       "      <td>0.005</td>\n",
       "      <td>36</td>\n",
       "      <td>10000</td>\n",
       "      <td>0</td>\n",
       "      <td>-460.224776</td>\n",
       "    </tr>\n",
       "  </tbody>\n",
       "</table>\n",
       "<p>120 rows × 6 columns</p>\n",
       "</div>"
      ],
      "text/plain": [
       "     period   rate  nper     pv  fv        ppmt\n",
       "0         1  0.005    36  10000   0 -254.219375\n",
       "1         2  0.005    36  10000   0 -255.490471\n",
       "2         3  0.005    36  10000   0 -256.767924\n",
       "3         4  0.005    36  10000   0 -258.051763\n",
       "4         5  0.005    36  10000   0 -259.342022\n",
       "..      ...    ...   ...    ...  ..         ...\n",
       "115     116  0.005    36  10000   0 -451.134196\n",
       "116     117  0.005    36  10000   0 -453.389867\n",
       "117     118  0.005    36  10000   0 -455.656816\n",
       "118     119  0.005    36  10000   0 -457.935100\n",
       "119     120  0.005    36  10000   0 -460.224776\n",
       "\n",
       "[120 rows x 6 columns]"
      ]
     },
     "execution_count": 22,
     "metadata": {},
     "output_type": "execute_result"
    }
   ],
   "source": [
    "df = pd.DataFrame()\n",
    "df['period'] = range(1, 121)\n",
    "df['rate'] = 0.06/12\n",
    "df['nper'] = 3*12\n",
    "df['pv'] = 10000\n",
    "df['fv'] = 0\n",
    "df['ppmt'] = npf.ppmt(df.rate, df.period, df.nper, df.pv, df.fv)\n",
    "df"
   ]
  },
  {
   "cell_type": "markdown",
   "id": "f2c809ff",
   "metadata": {},
   "source": [
    "## The effective annual interest rate\n",
    "\n",
    "There are other financial calculations we can do.\n",
    "\n",
    "The first is how to calculate the effective interest rate if you are charged monthly interest."
   ]
  },
  {
   "cell_type": "code",
   "execution_count": 16,
   "id": "eb0a7520",
   "metadata": {},
   "outputs": [
    {
     "name": "stdout",
     "output_type": "stream",
     "text": [
      "The effective interest rate is:  0.06167781186449828\n"
     ]
    }
   ],
   "source": [
    "rate = 0.06\n",
    "nper = 12\n",
    "effect = (1 + rate/nper)**nper - 1\n",
    "\n",
    "print('The effective interest rate is: ', effect)"
   ]
  },
  {
   "cell_type": "code",
   "execution_count": 17,
   "id": "46788165",
   "metadata": {},
   "outputs": [
    {
     "data": {
      "text/html": [
       "<div>\n",
       "<style scoped>\n",
       "    .dataframe tbody tr th:only-of-type {\n",
       "        vertical-align: middle;\n",
       "    }\n",
       "\n",
       "    .dataframe tbody tr th {\n",
       "        vertical-align: top;\n",
       "    }\n",
       "\n",
       "    .dataframe thead th {\n",
       "        text-align: right;\n",
       "    }\n",
       "</style>\n",
       "<table border=\"1\" class=\"dataframe\">\n",
       "  <thead>\n",
       "    <tr style=\"text-align: right;\">\n",
       "      <th></th>\n",
       "      <th>Obs</th>\n",
       "      <th>rate</th>\n",
       "      <th>nper</th>\n",
       "      <th>effect</th>\n",
       "    </tr>\n",
       "  </thead>\n",
       "  <tbody>\n",
       "    <tr>\n",
       "      <th>0</th>\n",
       "      <td>1</td>\n",
       "      <td>0.06</td>\n",
       "      <td>12</td>\n",
       "      <td>0.061678</td>\n",
       "    </tr>\n",
       "  </tbody>\n",
       "</table>\n",
       "</div>"
      ],
      "text/plain": [
       "   Obs  rate  nper    effect\n",
       "0    1  0.06    12  0.061678"
      ]
     },
     "execution_count": 17,
     "metadata": {},
     "output_type": "execute_result"
    }
   ],
   "source": [
    "df = pd.DataFrame({'Obs':[1]})\n",
    "df['rate'] = rate\n",
    "df['nper'] = nper\n",
    "df['effect'] = (1 + df.rate/df.nper)**df.nper - 1\n",
    "df"
   ]
  },
  {
   "cell_type": "markdown",
   "id": "87d29aa0",
   "metadata": {},
   "source": [
    "## Computing the internal rate of return for a series of cash flows\n",
    "\n",
    "There are other useful calculations you can use in finance. Internal rate of return is one of them.\n",
    "In this example, you invest 40.000 and receive four payment in return. The function returns the IRR of this investment."
   ]
  },
  {
   "cell_type": "code",
   "execution_count": 19,
   "id": "3f8f70ad",
   "metadata": {},
   "outputs": [
    {
     "data": {
      "text/html": [
       "<div>\n",
       "<style scoped>\n",
       "    .dataframe tbody tr th:only-of-type {\n",
       "        vertical-align: middle;\n",
       "    }\n",
       "\n",
       "    .dataframe tbody tr th {\n",
       "        vertical-align: top;\n",
       "    }\n",
       "\n",
       "    .dataframe thead th {\n",
       "        text-align: right;\n",
       "    }\n",
       "</style>\n",
       "<table border=\"1\" class=\"dataframe\">\n",
       "  <thead>\n",
       "    <tr style=\"text-align: right;\">\n",
       "      <th></th>\n",
       "      <th>cashflow</th>\n",
       "      <th>irr</th>\n",
       "    </tr>\n",
       "  </thead>\n",
       "  <tbody>\n",
       "    <tr>\n",
       "      <th>0</th>\n",
       "      <td>-40000</td>\n",
       "      <td>0.105823</td>\n",
       "    </tr>\n",
       "    <tr>\n",
       "      <th>1</th>\n",
       "      <td>5000</td>\n",
       "      <td>0.105823</td>\n",
       "    </tr>\n",
       "    <tr>\n",
       "      <th>2</th>\n",
       "      <td>8000</td>\n",
       "      <td>0.105823</td>\n",
       "    </tr>\n",
       "    <tr>\n",
       "      <th>3</th>\n",
       "      <td>12000</td>\n",
       "      <td>0.105823</td>\n",
       "    </tr>\n",
       "    <tr>\n",
       "      <th>4</th>\n",
       "      <td>30000</td>\n",
       "      <td>0.105823</td>\n",
       "    </tr>\n",
       "  </tbody>\n",
       "</table>\n",
       "</div>"
      ],
      "text/plain": [
       "   cashflow       irr\n",
       "0    -40000  0.105823\n",
       "1      5000  0.105823\n",
       "2      8000  0.105823\n",
       "3     12000  0.105823\n",
       "4     30000  0.105823"
      ]
     },
     "execution_count": 19,
     "metadata": {},
     "output_type": "execute_result"
    }
   ],
   "source": [
    "df = pd.DataFrame()\n",
    "df['cashflow'] = [-40000, 5000, 8000, 12000, 30000]\n",
    "df['irr'] = npf.irr(df['cashflow'])\n",
    "df"
   ]
  },
  {
   "cell_type": "code",
   "execution_count": 20,
   "id": "e96f58e3",
   "metadata": {},
   "outputs": [
    {
     "data": {
      "text/plain": [
       "0.10582259840890185"
      ]
     },
     "execution_count": 20,
     "metadata": {},
     "output_type": "execute_result"
    }
   ],
   "source": [
    "# senza dataframe\n",
    "irr = npf.irr(df['cashflow'])\n",
    "irr"
   ]
  },
  {
   "cell_type": "code",
   "execution_count": 21,
   "id": "becd2a17",
   "metadata": {},
   "outputs": [
    {
     "data": {
      "text/plain": [
       "0.10582259840890185"
      ]
     },
     "execution_count": 21,
     "metadata": {},
     "output_type": "execute_result"
    }
   ],
   "source": [
    "# senza dataframe\n",
    "npf.irr([-40000,5000,8000,12000,30000])"
   ]
  },
  {
   "cell_type": "markdown",
   "id": "4ba0e767",
   "metadata": {},
   "source": [
    "## Calculating the net present value\n",
    "\n",
    "This is a very interesting formula. For many years the explanations of how to use this formula have been wrong in both SAS and Excel.\n",
    "\n",
    "When you calculate a net, you have to deduct something. But that is not explained in the documentations of SAS and Microsoft. So the function is not calculating npv.\n",
    "\n",
    "You have to add a deduction to get the right result. In Python, every thing is calculated correctly from the beginning."
   ]
  },
  {
   "cell_type": "code",
   "execution_count": 22,
   "id": "f60abaf8",
   "metadata": {},
   "outputs": [
    {
     "data": {
      "text/html": [
       "<div>\n",
       "<style scoped>\n",
       "    .dataframe tbody tr th:only-of-type {\n",
       "        vertical-align: middle;\n",
       "    }\n",
       "\n",
       "    .dataframe tbody tr th {\n",
       "        vertical-align: top;\n",
       "    }\n",
       "\n",
       "    .dataframe thead th {\n",
       "        text-align: right;\n",
       "    }\n",
       "</style>\n",
       "<table border=\"1\" class=\"dataframe\">\n",
       "  <thead>\n",
       "    <tr style=\"text-align: right;\">\n",
       "      <th></th>\n",
       "      <th>values</th>\n",
       "      <th>rate</th>\n",
       "      <th>npv</th>\n",
       "    </tr>\n",
       "  </thead>\n",
       "  <tbody>\n",
       "    <tr>\n",
       "      <th>0</th>\n",
       "      <td>-40000</td>\n",
       "      <td>0.08</td>\n",
       "      <td>3065.222668</td>\n",
       "    </tr>\n",
       "    <tr>\n",
       "      <th>1</th>\n",
       "      <td>5000</td>\n",
       "      <td>0.08</td>\n",
       "      <td>3065.222668</td>\n",
       "    </tr>\n",
       "    <tr>\n",
       "      <th>2</th>\n",
       "      <td>8000</td>\n",
       "      <td>0.08</td>\n",
       "      <td>3065.222668</td>\n",
       "    </tr>\n",
       "    <tr>\n",
       "      <th>3</th>\n",
       "      <td>12000</td>\n",
       "      <td>0.08</td>\n",
       "      <td>3065.222668</td>\n",
       "    </tr>\n",
       "    <tr>\n",
       "      <th>4</th>\n",
       "      <td>30000</td>\n",
       "      <td>0.08</td>\n",
       "      <td>3065.222668</td>\n",
       "    </tr>\n",
       "  </tbody>\n",
       "</table>\n",
       "</div>"
      ],
      "text/plain": [
       "   values  rate          npv\n",
       "0  -40000  0.08  3065.222668\n",
       "1    5000  0.08  3065.222668\n",
       "2    8000  0.08  3065.222668\n",
       "3   12000  0.08  3065.222668\n",
       "4   30000  0.08  3065.222668"
      ]
     },
     "execution_count": 22,
     "metadata": {},
     "output_type": "execute_result"
    }
   ],
   "source": [
    "df = pd.DataFrame()\n",
    "df['values'] = [-40000, 5000, 8000, 12000, 30000]\n",
    "df['rate'] = 0.08\n",
    "df['npv'] = npf.npv(df['rate'],df['values'])\n",
    "df"
   ]
  },
  {
   "cell_type": "code",
   "execution_count": 23,
   "id": "cb1b4c81",
   "metadata": {},
   "outputs": [
    {
     "data": {
      "text/plain": [
       "3065.222668179529"
      ]
     },
     "execution_count": 23,
     "metadata": {},
     "output_type": "execute_result"
    }
   ],
   "source": [
    "5000/(1+0.08)**1 + 8000/(1+0.08)**2 + 12000/(1+0.08)**3 + 30000/(1+0.08)**4 - 40000"
   ]
  },
  {
   "cell_type": "code",
   "execution_count": 25,
   "id": "6a07f168",
   "metadata": {},
   "outputs": [
    {
     "data": {
      "text/plain": [
       "3065.2226681795255"
      ]
     },
     "execution_count": 25,
     "metadata": {},
     "output_type": "execute_result"
    }
   ],
   "source": [
    "# This last example shows how to separate the two values, investment and cashflow. \n",
    "# If you have the values in each list, you can add the two list's in the function as investment+cashflow\n",
    "rate = 0.08\n",
    "investment = [-40000]\n",
    "cashflow = [5000, 8000, 12000, 30000]\n",
    "npf.npv(rate,investment+cashflow)"
   ]
  },
  {
   "cell_type": "markdown",
   "id": "883cd0f8",
   "metadata": {},
   "source": [
    "## Calcolo dell'IRR\n",
    "Supponiamo che un manager abbia l'opportunità di investire in due progetti, ma possa sceglierne solo uno. I progetti sono:\n",
    "\n",
    "Il progetto 1 richiede investimenti di 800 milioni di dollari oggi, ma pagherà 200.250.300.350.400 milioni di pagamenti ogni anno per i prossimi 5 anni.\n",
    "\n",
    "Il progetto 2 ha richiesto investimenti di 500 milioni di dollari oggi, ma pagherà 150.170.178.250.300 di pagamenti ogni anno per i prossimi 5 anni.\n",
    "\n",
    "In che modo il manager deciderà quale progetto scegliere? Per risolvere questo problema dobbiamo calcolare l'IRR dei due progetti. Mostriamo la soluzione di seguito. "
   ]
  },
  {
   "cell_type": "code",
   "execution_count": 10,
   "id": "005c76c4",
   "metadata": {},
   "outputs": [
    {
     "name": "stdout",
     "output_type": "stream",
     "text": [
      "   Year   cf\n",
      "0     0 -800\n",
      "1     1  200\n",
      "2     2  250\n",
      "3     3  300\n",
      "4     4  350\n",
      "5     5  400\n"
     ]
    }
   ],
   "source": [
    "import numpy as np\n",
    "project1_cf = pd.DataFrame({\"Year\":np.arange(0,6),\"cf\": [-800,200,250,300,350,400]})\n",
    "project2_cf = pd.DataFrame({\"Year\":np.arange(0,6),\"cf\": [-500,150,170,178,250,300]})\n",
    "print(project1_cf)\n"
   ]
  },
  {
   "cell_type": "code",
   "execution_count": 11,
   "id": "57d126cf",
   "metadata": {},
   "outputs": [
    {
     "name": "stdout",
     "output_type": "stream",
     "text": [
      "       Name       IRR\n",
      "0  Project1  0.221603\n",
      "1  Project2  0.267620\n"
     ]
    }
   ],
   "source": [
    "irr1 = npf.irr(project1_cf[\"cf\"])\n",
    "irr2 = npf.irr(project2_cf[\"cf\"])\n",
    "irr_df = pd.DataFrame({\"Name\":[\"Project1\", \"Project2\"],\n",
    "                      \"IRR\":[irr1, irr2]})\n",
    "print(irr_df)"
   ]
  },
  {
   "cell_type": "markdown",
   "id": "3d2fc9ad",
   "metadata": {},
   "source": [
    "## Risultati diversi per IRR da numpy.irr e dalla funzione IRR di Excel \n",
    "https://stackoverflow.com/questions/52771770/different-results-for-irr-from-numpy-irr-and-the-excel-irr-function"
   ]
  },
  {
   "cell_type": "code",
   "execution_count": 16,
   "id": "36194d87",
   "metadata": {},
   "outputs": [
    {
     "data": {
      "image/png": "[encoded data removed]",
      "text/plain": [
       "<Figure size 432x288 with 1 Axes>"
      ]
     },
     "metadata": {
      "needs_background": "light"
     },
     "output_type": "display_data"
    }
   ],
   "source": [
    "import matplotlib.pyplot as plt\n",
    "\n",
    "\n",
    "w = np.array([   -56501, -14918073,  -1745198, -20887403,  -9960686, -31076934,\n",
    "                      0,         0,  11367846,  26736802,  -2341940,  20853917,\n",
    "               22166416,  19214094,  23056582, -11227178,  18867100,  24947517,\n",
    "               28733869,  24707603, -17030396,   7753089,  27526723,  31534327,\n",
    "               26726270, -24607953,  11532035,  29444013,  24350595,  30140678,\n",
    "              -33262793,   5640172,  32846900,  38165710,  31655489, -74343373,\n",
    "                      0,         0,         0,         0,         0,         0,\n",
    "                      0,         0,         0,         0,         0,         0,\n",
    "                      0,         0,         0,         0,         0,         0,\n",
    "                      0,         0,         0,         0,         0,         0,\n",
    "                      0,         0,         0,         0,         0,         0,\n",
    "                      0,         0,         0,         0,         0,         0,\n",
    "                      0,         0,         0,         0,         0,         0,\n",
    "                      0,         0,         0,         0,         0,         0,\n",
    "                      0,  -8727068])\n",
    "\n",
    "r_excel = 0.1200963665\n",
    "\n",
    "r_numpy = npf.irr(w)\n",
    "\n",
    "rr = np.linspace(-0.055, 0.16, 500)\n",
    "npvals = np.array([npf.npv(r, w) for r in rr])\n",
    "\n",
    "plt.plot(rr, npvals/1e6, alpha=0.8)\n",
    "plt.plot(r_numpy, 0, 'r*')\n",
    "plt.plot(r_excel, 0, 'r*')\n",
    "\n",
    "plt.grid(True)\n",
    "plt.xlabel('r')\n",
    "plt.ylabel('NPV(r) [millions]')\n",
    "\n",
    "plt.show()"
   ]
  },
  {
   "cell_type": "markdown",
   "id": "b7af9689",
   "metadata": {},
   "source": [
    "## [Building a Financial Model with Pandas](https://pbpython.com/amortization-model-revised.html)\n"
   ]
  },
  {
   "cell_type": "code",
   "execution_count": 40,
   "id": "760875c3",
   "metadata": {},
   "outputs": [],
   "source": [
    "Interest_Rate = 0.06\n",
    "Years = 3\n",
    "Payments_Year = 12\n",
    "Principal = 10000\n",
    "Addl_Princ = 2.5\n",
    "\n",
    "from datetime import date\n",
    "start_date = (date(2016,1,1))"
   ]
  },
  {
   "cell_type": "code",
   "execution_count": 30,
   "id": "210d41a8",
   "metadata": {},
   "outputs": [
    {
     "data": {
      "text/plain": [
       "-304.21937451555715"
      ]
     },
     "execution_count": 30,
     "metadata": {},
     "output_type": "execute_result"
    }
   ],
   "source": [
    "pmt = npf.pmt(Interest_Rate/Payments_Year, Years*Payments_Year, Principal)\n",
    "pmt"
   ]
  },
  {
   "cell_type": "code",
   "execution_count": 31,
   "id": "f449a37b",
   "metadata": {},
   "outputs": [
    {
     "name": "stdout",
     "output_type": "stream",
     "text": [
      "-50.0 -254.21937451555715\n"
     ]
    }
   ],
   "source": [
    "# Period to calculate\n",
    "per = 1\n",
    "\n",
    "# Calculate the interest\n",
    "ipmt = npf.ipmt(Interest_Rate/Payments_Year, per, Years*Payments_Year, Principal)\n",
    "\n",
    "# Calculate the principal\n",
    "ppmt = npf.ppmt(Interest_Rate/Payments_Year, per, Years*Payments_Year, Principal)\n",
    "\n",
    "print(ipmt, ppmt)"
   ]
  },
  {
   "cell_type": "code",
   "execution_count": 32,
   "id": "765f1360",
   "metadata": {},
   "outputs": [
    {
     "name": "stdout",
     "output_type": "stream",
     "text": [
      "-10.437879355387858 -293.7814951601693\n"
     ]
    }
   ],
   "source": [
    "per = 30 # Period to calculate\n",
    "# Calculate the interest\n",
    "ipmt = npf.ipmt(Interest_Rate/Payments_Year, per, Years*Payments_Year, Principal)\n",
    "\n",
    "# Calculate the principal\n",
    "ppmt = npf.ppmt(Interest_Rate/Payments_Year, per, Years*Payments_Year, Principal)\n",
    "print(ipmt, ppmt)"
   ]
  },
  {
   "cell_type": "code",
   "execution_count": 33,
   "id": "3fd5edb0",
   "metadata": {},
   "outputs": [],
   "source": [
    "rng = pd.date_range(start_date, periods=Years * Payments_Year, freq='MS')\n",
    "rng.name = \"Payment_Date\""
   ]
  },
  {
   "cell_type": "code",
   "execution_count": 34,
   "id": "1cdd6c15",
   "metadata": {},
   "outputs": [
    {
     "data": {
      "text/plain": [
       "DatetimeIndex(['2016-01-01', '2016-02-01', '2016-03-01', '2016-04-01',\n",
       "               '2016-05-01', '2016-06-01', '2016-07-01', '2016-08-01',\n",
       "               '2016-09-01', '2016-10-01', '2016-11-01', '2016-12-01',\n",
       "               '2017-01-01', '2017-02-01', '2017-03-01', '2017-04-01',\n",
       "               '2017-05-01', '2017-06-01', '2017-07-01', '2017-08-01',\n",
       "               '2017-09-01', '2017-10-01', '2017-11-01', '2017-12-01',\n",
       "               '2018-01-01', '2018-02-01', '2018-03-01', '2018-04-01',\n",
       "               '2018-05-01', '2018-06-01', '2018-07-01', '2018-08-01',\n",
       "               '2018-09-01', '2018-10-01', '2018-11-01', '2018-12-01'],\n",
       "              dtype='datetime64[ns]', name='Payment_Date', freq='MS')"
      ]
     },
     "execution_count": 34,
     "metadata": {},
     "output_type": "execute_result"
    }
   ],
   "source": [
    "rng"
   ]
  },
  {
   "cell_type": "code",
   "execution_count": 35,
   "id": "11402f4b",
   "metadata": {},
   "outputs": [],
   "source": [
    "df = pd.DataFrame(index=rng,columns=['Payment', 'Principal', 'Interest', 'Addl_Principal', 'Balance'], dtype='float')\n",
    "df.reset_index(inplace=True)\n",
    "df.index += 1\n",
    "df.index.name = \"Period\""
   ]
  },
  {
   "cell_type": "code",
   "execution_count": 43,
   "id": "621dc09e",
   "metadata": {},
   "outputs": [
    {
     "data": {
      "text/html": [
       "<div>\n",
       "<style scoped>\n",
       "    .dataframe tbody tr th:only-of-type {\n",
       "        vertical-align: middle;\n",
       "    }\n",
       "\n",
       "    .dataframe tbody tr th {\n",
       "        vertical-align: top;\n",
       "    }\n",
       "\n",
       "    .dataframe thead th {\n",
       "        text-align: right;\n",
       "    }\n",
       "</style>\n",
       "<table border=\"1\" class=\"dataframe\">\n",
       "  <thead>\n",
       "    <tr style=\"text-align: right;\">\n",
       "      <th></th>\n",
       "      <th>Payment_Date</th>\n",
       "      <th>Payment</th>\n",
       "      <th>Principal</th>\n",
       "      <th>Interest</th>\n",
       "      <th>Addl_Principal</th>\n",
       "      <th>Balance</th>\n",
       "    </tr>\n",
       "    <tr>\n",
       "      <th>Period</th>\n",
       "      <th></th>\n",
       "      <th></th>\n",
       "      <th></th>\n",
       "      <th></th>\n",
       "      <th></th>\n",
       "      <th></th>\n",
       "    </tr>\n",
       "  </thead>\n",
       "  <tbody>\n",
       "    <tr>\n",
       "      <th>1</th>\n",
       "      <td>2016-01-01</td>\n",
       "      <td>NaN</td>\n",
       "      <td>-254.22</td>\n",
       "      <td>-50.00</td>\n",
       "      <td>-2.5</td>\n",
       "      <td>NaN</td>\n",
       "    </tr>\n",
       "    <tr>\n",
       "      <th>2</th>\n",
       "      <td>2016-02-01</td>\n",
       "      <td>NaN</td>\n",
       "      <td>-255.49</td>\n",
       "      <td>-48.73</td>\n",
       "      <td>-2.5</td>\n",
       "      <td>NaN</td>\n",
       "    </tr>\n",
       "    <tr>\n",
       "      <th>3</th>\n",
       "      <td>2016-03-01</td>\n",
       "      <td>NaN</td>\n",
       "      <td>-256.77</td>\n",
       "      <td>-47.45</td>\n",
       "      <td>-2.5</td>\n",
       "      <td>NaN</td>\n",
       "    </tr>\n",
       "    <tr>\n",
       "      <th>4</th>\n",
       "      <td>2016-04-01</td>\n",
       "      <td>NaN</td>\n",
       "      <td>-258.05</td>\n",
       "      <td>-46.17</td>\n",
       "      <td>-2.5</td>\n",
       "      <td>NaN</td>\n",
       "    </tr>\n",
       "    <tr>\n",
       "      <th>5</th>\n",
       "      <td>2016-05-01</td>\n",
       "      <td>NaN</td>\n",
       "      <td>-259.34</td>\n",
       "      <td>-44.88</td>\n",
       "      <td>-2.5</td>\n",
       "      <td>NaN</td>\n",
       "    </tr>\n",
       "    <tr>\n",
       "      <th>6</th>\n",
       "      <td>2016-06-01</td>\n",
       "      <td>NaN</td>\n",
       "      <td>-260.64</td>\n",
       "      <td>-43.58</td>\n",
       "      <td>-2.5</td>\n",
       "      <td>NaN</td>\n",
       "    </tr>\n",
       "    <tr>\n",
       "      <th>7</th>\n",
       "      <td>2016-07-01</td>\n",
       "      <td>NaN</td>\n",
       "      <td>-261.94</td>\n",
       "      <td>-42.28</td>\n",
       "      <td>-2.5</td>\n",
       "      <td>NaN</td>\n",
       "    </tr>\n",
       "    <tr>\n",
       "      <th>8</th>\n",
       "      <td>2016-08-01</td>\n",
       "      <td>NaN</td>\n",
       "      <td>-263.25</td>\n",
       "      <td>-40.97</td>\n",
       "      <td>-2.5</td>\n",
       "      <td>NaN</td>\n",
       "    </tr>\n",
       "    <tr>\n",
       "      <th>9</th>\n",
       "      <td>2016-09-01</td>\n",
       "      <td>NaN</td>\n",
       "      <td>-264.57</td>\n",
       "      <td>-39.65</td>\n",
       "      <td>-2.5</td>\n",
       "      <td>NaN</td>\n",
       "    </tr>\n",
       "    <tr>\n",
       "      <th>10</th>\n",
       "      <td>2016-10-01</td>\n",
       "      <td>NaN</td>\n",
       "      <td>-265.89</td>\n",
       "      <td>-38.33</td>\n",
       "      <td>-2.5</td>\n",
       "      <td>NaN</td>\n",
       "    </tr>\n",
       "    <tr>\n",
       "      <th>11</th>\n",
       "      <td>2016-11-01</td>\n",
       "      <td>NaN</td>\n",
       "      <td>-267.22</td>\n",
       "      <td>-37.00</td>\n",
       "      <td>-2.5</td>\n",
       "      <td>NaN</td>\n",
       "    </tr>\n",
       "    <tr>\n",
       "      <th>12</th>\n",
       "      <td>2016-12-01</td>\n",
       "      <td>NaN</td>\n",
       "      <td>-268.56</td>\n",
       "      <td>-35.66</td>\n",
       "      <td>-2.5</td>\n",
       "      <td>NaN</td>\n",
       "    </tr>\n",
       "    <tr>\n",
       "      <th>13</th>\n",
       "      <td>2017-01-01</td>\n",
       "      <td>NaN</td>\n",
       "      <td>-269.90</td>\n",
       "      <td>-34.32</td>\n",
       "      <td>-2.5</td>\n",
       "      <td>NaN</td>\n",
       "    </tr>\n",
       "    <tr>\n",
       "      <th>14</th>\n",
       "      <td>2017-02-01</td>\n",
       "      <td>NaN</td>\n",
       "      <td>-271.25</td>\n",
       "      <td>-32.97</td>\n",
       "      <td>-2.5</td>\n",
       "      <td>NaN</td>\n",
       "    </tr>\n",
       "    <tr>\n",
       "      <th>15</th>\n",
       "      <td>2017-03-01</td>\n",
       "      <td>NaN</td>\n",
       "      <td>-272.60</td>\n",
       "      <td>-31.61</td>\n",
       "      <td>-2.5</td>\n",
       "      <td>NaN</td>\n",
       "    </tr>\n",
       "    <tr>\n",
       "      <th>16</th>\n",
       "      <td>2017-04-01</td>\n",
       "      <td>NaN</td>\n",
       "      <td>-273.97</td>\n",
       "      <td>-30.25</td>\n",
       "      <td>-2.5</td>\n",
       "      <td>NaN</td>\n",
       "    </tr>\n",
       "    <tr>\n",
       "      <th>17</th>\n",
       "      <td>2017-05-01</td>\n",
       "      <td>NaN</td>\n",
       "      <td>-275.34</td>\n",
       "      <td>-28.88</td>\n",
       "      <td>-2.5</td>\n",
       "      <td>NaN</td>\n",
       "    </tr>\n",
       "    <tr>\n",
       "      <th>18</th>\n",
       "      <td>2017-06-01</td>\n",
       "      <td>NaN</td>\n",
       "      <td>-276.71</td>\n",
       "      <td>-27.51</td>\n",
       "      <td>-2.5</td>\n",
       "      <td>NaN</td>\n",
       "    </tr>\n",
       "    <tr>\n",
       "      <th>19</th>\n",
       "      <td>2017-07-01</td>\n",
       "      <td>NaN</td>\n",
       "      <td>-278.10</td>\n",
       "      <td>-26.12</td>\n",
       "      <td>-2.5</td>\n",
       "      <td>NaN</td>\n",
       "    </tr>\n",
       "    <tr>\n",
       "      <th>20</th>\n",
       "      <td>2017-08-01</td>\n",
       "      <td>NaN</td>\n",
       "      <td>-279.49</td>\n",
       "      <td>-24.73</td>\n",
       "      <td>-2.5</td>\n",
       "      <td>NaN</td>\n",
       "    </tr>\n",
       "    <tr>\n",
       "      <th>21</th>\n",
       "      <td>2017-09-01</td>\n",
       "      <td>NaN</td>\n",
       "      <td>-280.89</td>\n",
       "      <td>-23.33</td>\n",
       "      <td>-2.5</td>\n",
       "      <td>NaN</td>\n",
       "    </tr>\n",
       "    <tr>\n",
       "      <th>22</th>\n",
       "      <td>2017-10-01</td>\n",
       "      <td>NaN</td>\n",
       "      <td>-282.29</td>\n",
       "      <td>-21.93</td>\n",
       "      <td>-2.5</td>\n",
       "      <td>NaN</td>\n",
       "    </tr>\n",
       "    <tr>\n",
       "      <th>23</th>\n",
       "      <td>2017-11-01</td>\n",
       "      <td>NaN</td>\n",
       "      <td>-283.70</td>\n",
       "      <td>-20.52</td>\n",
       "      <td>-2.5</td>\n",
       "      <td>NaN</td>\n",
       "    </tr>\n",
       "    <tr>\n",
       "      <th>24</th>\n",
       "      <td>2017-12-01</td>\n",
       "      <td>NaN</td>\n",
       "      <td>-285.12</td>\n",
       "      <td>-19.10</td>\n",
       "      <td>-2.5</td>\n",
       "      <td>NaN</td>\n",
       "    </tr>\n",
       "    <tr>\n",
       "      <th>25</th>\n",
       "      <td>2018-01-01</td>\n",
       "      <td>NaN</td>\n",
       "      <td>-286.55</td>\n",
       "      <td>-17.67</td>\n",
       "      <td>-2.5</td>\n",
       "      <td>NaN</td>\n",
       "    </tr>\n",
       "    <tr>\n",
       "      <th>26</th>\n",
       "      <td>2018-02-01</td>\n",
       "      <td>NaN</td>\n",
       "      <td>-287.98</td>\n",
       "      <td>-16.24</td>\n",
       "      <td>-2.5</td>\n",
       "      <td>NaN</td>\n",
       "    </tr>\n",
       "    <tr>\n",
       "      <th>27</th>\n",
       "      <td>2018-03-01</td>\n",
       "      <td>NaN</td>\n",
       "      <td>-289.42</td>\n",
       "      <td>-14.80</td>\n",
       "      <td>-2.5</td>\n",
       "      <td>NaN</td>\n",
       "    </tr>\n",
       "    <tr>\n",
       "      <th>28</th>\n",
       "      <td>2018-04-01</td>\n",
       "      <td>NaN</td>\n",
       "      <td>-290.87</td>\n",
       "      <td>-13.35</td>\n",
       "      <td>-2.5</td>\n",
       "      <td>NaN</td>\n",
       "    </tr>\n",
       "    <tr>\n",
       "      <th>29</th>\n",
       "      <td>2018-05-01</td>\n",
       "      <td>NaN</td>\n",
       "      <td>-292.32</td>\n",
       "      <td>-11.90</td>\n",
       "      <td>-2.5</td>\n",
       "      <td>NaN</td>\n",
       "    </tr>\n",
       "    <tr>\n",
       "      <th>30</th>\n",
       "      <td>2018-06-01</td>\n",
       "      <td>NaN</td>\n",
       "      <td>-293.78</td>\n",
       "      <td>-10.44</td>\n",
       "      <td>-2.5</td>\n",
       "      <td>NaN</td>\n",
       "    </tr>\n",
       "    <tr>\n",
       "      <th>31</th>\n",
       "      <td>2018-07-01</td>\n",
       "      <td>NaN</td>\n",
       "      <td>-295.25</td>\n",
       "      <td>-8.97</td>\n",
       "      <td>-2.5</td>\n",
       "      <td>NaN</td>\n",
       "    </tr>\n",
       "    <tr>\n",
       "      <th>32</th>\n",
       "      <td>2018-08-01</td>\n",
       "      <td>NaN</td>\n",
       "      <td>-296.73</td>\n",
       "      <td>-7.49</td>\n",
       "      <td>-2.5</td>\n",
       "      <td>NaN</td>\n",
       "    </tr>\n",
       "    <tr>\n",
       "      <th>33</th>\n",
       "      <td>2018-09-01</td>\n",
       "      <td>NaN</td>\n",
       "      <td>-298.21</td>\n",
       "      <td>-6.01</td>\n",
       "      <td>-2.5</td>\n",
       "      <td>NaN</td>\n",
       "    </tr>\n",
       "    <tr>\n",
       "      <th>34</th>\n",
       "      <td>2018-10-01</td>\n",
       "      <td>NaN</td>\n",
       "      <td>-299.70</td>\n",
       "      <td>-4.52</td>\n",
       "      <td>-2.5</td>\n",
       "      <td>NaN</td>\n",
       "    </tr>\n",
       "    <tr>\n",
       "      <th>35</th>\n",
       "      <td>2018-11-01</td>\n",
       "      <td>NaN</td>\n",
       "      <td>-301.20</td>\n",
       "      <td>-3.02</td>\n",
       "      <td>-2.5</td>\n",
       "      <td>NaN</td>\n",
       "    </tr>\n",
       "    <tr>\n",
       "      <th>36</th>\n",
       "      <td>2018-12-01</td>\n",
       "      <td>NaN</td>\n",
       "      <td>-302.71</td>\n",
       "      <td>-1.51</td>\n",
       "      <td>-2.5</td>\n",
       "      <td>NaN</td>\n",
       "    </tr>\n",
       "  </tbody>\n",
       "</table>\n",
       "</div>"
      ],
      "text/plain": [
       "       Payment_Date  Payment  Principal  Interest  Addl_Principal  Balance\n",
       "Period                                                                    \n",
       "1        2016-01-01      NaN    -254.22    -50.00            -2.5      NaN\n",
       "2        2016-02-01      NaN    -255.49    -48.73            -2.5      NaN\n",
       "3        2016-03-01      NaN    -256.77    -47.45            -2.5      NaN\n",
       "4        2016-04-01      NaN    -258.05    -46.17            -2.5      NaN\n",
       "5        2016-05-01      NaN    -259.34    -44.88            -2.5      NaN\n",
       "6        2016-06-01      NaN    -260.64    -43.58            -2.5      NaN\n",
       "7        2016-07-01      NaN    -261.94    -42.28            -2.5      NaN\n",
       "8        2016-08-01      NaN    -263.25    -40.97            -2.5      NaN\n",
       "9        2016-09-01      NaN    -264.57    -39.65            -2.5      NaN\n",
       "10       2016-10-01      NaN    -265.89    -38.33            -2.5      NaN\n",
       "11       2016-11-01      NaN    -267.22    -37.00            -2.5      NaN\n",
       "12       2016-12-01      NaN    -268.56    -35.66            -2.5      NaN\n",
       "13       2017-01-01      NaN    -269.90    -34.32            -2.5      NaN\n",
       "14       2017-02-01      NaN    -271.25    -32.97            -2.5      NaN\n",
       "15       2017-03-01      NaN    -272.60    -31.61            -2.5      NaN\n",
       "16       2017-04-01      NaN    -273.97    -30.25            -2.5      NaN\n",
       "17       2017-05-01      NaN    -275.34    -28.88            -2.5      NaN\n",
       "18       2017-06-01      NaN    -276.71    -27.51            -2.5      NaN\n",
       "19       2017-07-01      NaN    -278.10    -26.12            -2.5      NaN\n",
       "20       2017-08-01      NaN    -279.49    -24.73            -2.5      NaN\n",
       "21       2017-09-01      NaN    -280.89    -23.33            -2.5      NaN\n",
       "22       2017-10-01      NaN    -282.29    -21.93            -2.5      NaN\n",
       "23       2017-11-01      NaN    -283.70    -20.52            -2.5      NaN\n",
       "24       2017-12-01      NaN    -285.12    -19.10            -2.5      NaN\n",
       "25       2018-01-01      NaN    -286.55    -17.67            -2.5      NaN\n",
       "26       2018-02-01      NaN    -287.98    -16.24            -2.5      NaN\n",
       "27       2018-03-01      NaN    -289.42    -14.80            -2.5      NaN\n",
       "28       2018-04-01      NaN    -290.87    -13.35            -2.5      NaN\n",
       "29       2018-05-01      NaN    -292.32    -11.90            -2.5      NaN\n",
       "30       2018-06-01      NaN    -293.78    -10.44            -2.5      NaN\n",
       "31       2018-07-01      NaN    -295.25     -8.97            -2.5      NaN\n",
       "32       2018-08-01      NaN    -296.73     -7.49            -2.5      NaN\n",
       "33       2018-09-01      NaN    -298.21     -6.01            -2.5      NaN\n",
       "34       2018-10-01      NaN    -299.70     -4.52            -2.5      NaN\n",
       "35       2018-11-01      NaN    -301.20     -3.02            -2.5      NaN\n",
       "36       2018-12-01      NaN    -302.71     -1.51            -2.5      NaN"
      ]
     },
     "execution_count": 43,
     "metadata": {},
     "output_type": "execute_result"
    }
   ],
   "source": [
    "df"
   ]
  },
  {
   "cell_type": "code",
   "execution_count": 37,
   "id": "39ff0fd8",
   "metadata": {},
   "outputs": [],
   "source": [
    "df[\"Principal\"] = npf.ppmt(Interest_Rate/Payments_Year, df.index, Years*Payments_Year, Principal)\n",
    "df[\"Interest\"] = npf.ipmt(Interest_Rate/Payments_Year, df.index, Years*Payments_Year, Principal)"
   ]
  },
  {
   "cell_type": "code",
   "execution_count": 42,
   "id": "2b5fcc7a",
   "metadata": {},
   "outputs": [],
   "source": [
    "# Convert to a negative value in order to keep the signs the same\n",
    "df[\"Addl_Principal\"] = -Addl_Princ\n",
    "df = df.round(2)"
   ]
  },
  {
   "cell_type": "code",
   "execution_count": null,
   "id": "93d296e1",
   "metadata": {},
   "outputs": [],
   "source": []
  },
  {
   "cell_type": "code",
   "execution_count": 61,
   "id": "7bc47cd0",
   "metadata": {},
   "outputs": [
    {
     "name": "stdout",
     "output_type": "stream",
     "text": [
      "Payments are 304.2194 per month\n",
      "month\t\tbal\t\tint\t\tprin\t\tending\n",
      "0\t\t10000.00\t\t50.00\t\t254.22\t\t9745.78\n",
      "1\t\t9745.78\t\t48.73\t\t255.49\t\t9490.29\n",
      "2\t\t9490.29\t\t47.45\t\t256.77\t\t9233.52\n",
      "3\t\t9233.52\t\t46.17\t\t258.05\t\t8975.47\n",
      "4\t\t8975.47\t\t44.88\t\t259.34\t\t8716.13\n",
      "5\t\t8716.13\t\t43.58\t\t260.64\t\t8455.49\n",
      "6\t\t8455.49\t\t42.28\t\t261.94\t\t8193.55\n",
      "7\t\t8193.55\t\t40.97\t\t263.25\t\t7930.30\n",
      "8\t\t7930.30\t\t39.65\t\t264.57\t\t7665.73\n",
      "9\t\t7665.73\t\t38.33\t\t265.89\t\t7399.84\n",
      "10\t\t7399.84\t\t37.00\t\t267.22\t\t7132.62\n",
      "11\t\t7132.62\t\t35.66\t\t268.56\t\t6864.06\n",
      "12\t\t6864.06\t\t34.32\t\t269.90\t\t6594.16\n",
      "13\t\t6594.16\t\t32.97\t\t271.25\t\t6322.91\n",
      "14\t\t6322.91\t\t31.61\t\t272.60\t\t6050.31\n",
      "15\t\t6050.31\t\t30.25\t\t273.97\t\t5776.34\n",
      "16\t\t5776.34\t\t28.88\t\t275.34\t\t5501.00\n",
      "17\t\t5501.00\t\t27.51\t\t276.71\t\t5224.29\n",
      "18\t\t5224.29\t\t26.12\t\t278.10\t\t4946.19\n",
      "19\t\t4946.19\t\t24.73\t\t279.49\t\t4666.70\n",
      "20\t\t4666.70\t\t23.33\t\t280.89\t\t4385.82\n",
      "21\t\t4385.82\t\t21.93\t\t282.29\t\t4103.53\n",
      "22\t\t4103.53\t\t20.52\t\t283.70\t\t3819.82\n",
      "23\t\t3819.82\t\t19.10\t\t285.12\t\t3534.70\n",
      "24\t\t3534.70\t\t17.67\t\t286.55\t\t3248.16\n",
      "25\t\t3248.16\t\t16.24\t\t287.98\t\t2960.18\n",
      "26\t\t2960.18\t\t14.80\t\t289.42\t\t2670.76\n",
      "27\t\t2670.76\t\t13.35\t\t290.87\t\t2379.90\n",
      "28\t\t2379.90\t\t11.90\t\t292.32\t\t2087.58\n",
      "29\t\t2087.58\t\t10.44\t\t293.78\t\t1793.79\n",
      "30\t\t1793.79\t\t8.97\t\t295.25\t\t1498.54\n",
      "31\t\t1498.54\t\t7.49\t\t296.73\t\t1201.82\n",
      "32\t\t1201.82\t\t6.01\t\t298.21\t\t903.61\n",
      "33\t\t903.61\t\t4.52\t\t299.70\t\t603.90\n",
      "34\t\t603.90\t\t3.02\t\t301.20\t\t302.70\n",
      "35\t\t302.70\t\t1.51\t\t302.71\t\t-0.00\n"
     ]
    }
   ],
   "source": [
    "#p = r(pv)/(1-(1+r)**-n)\n",
    "loan = 10000  \n",
    "rate = 0.06\n",
    "term = 3\n",
    "\n",
    "mo_rate = rate/12\n",
    "mo_term = term*12\n",
    "factor = (1 + mo_rate) ** mo_term\n",
    "pmt = round(loan * (mo_rate * factor) / (factor - 1), 4)\n",
    "print( \"Payments are\", pmt, \"per month\")\n",
    "\n",
    "balance = loan\n",
    "print( \"month\\t\\tbal\\t\\tint\\t\\tprin\\t\\tending\" )\n",
    "for i in range(mo_term):\n",
    "    interest = balance * mo_rate\n",
    "    ending = balance + interest - pmt\n",
    "    print( f\"{i}\\t\\t{balance:.2f}\\t\\t{interest:.2f}\\t\\t{pmt-interest:.2f}\\t\\t{ending:.2f}\" )\n",
    "    balance = ending"
   ]
  },
  {
   "cell_type": "code",
   "execution_count": 59,
   "id": "22d481f9",
   "metadata": {},
   "outputs": [
    {
     "name": "stdout",
     "output_type": "stream",
     "text": [
      "year  interest   retired   balance\n",
      "   1    600.00   1773.96   8226.04\n",
      "   2    493.56   1880.40   6345.63\n",
      "   3    380.74   1993.23   4352.41\n",
      "   4    261.14   2112.82   2239.59\n",
      "   5    134.38   2239.59      0.00\n"
     ]
    }
   ],
   "source": [
    "import numpy_financial as npf\n",
    "\n",
    "rate = .06\n",
    "principal = 10000\n",
    "years = 5\n",
    "\n",
    "annual_pay = npf.pmt(rate,years,-principal)\n",
    "\n",
    "print('{}{:>10}{:>10}{:>10}'.format('year','interest','retired', 'balance'))\n",
    "\n",
    "for yr in range(1,6):\n",
    "    interest_to_pay = rate * principal\n",
    "    retired_prin = annual_pay - interest_to_pay\n",
    "    principal = principal - retired_prin\n",
    "    print('{:>4}{:>10.2f}{:>10.2f}{:>10.2f}'\n",
    "          .format(yr, interest_to_pay, retired_prin, principal))"
   ]
  }
 ],
 "metadata": {
  "kernelspec": {
   "display_name": "Python 3 (ipykernel)",
   "language": "python",
   "name": "python3"
  },
  "language_info": {
   "codemirror_mode": {
    "name": "ipython",
    "version": 3
   },
   "file_extension": ".py",
   "mimetype": "text/x-python",
   "name": "python",
   "nbconvert_exporter": "python",
   "pygments_lexer": "ipython3",
   "version": "3.9.12"
  }
 },
 "nbformat": 4,
 "nbformat_minor": 5
}
